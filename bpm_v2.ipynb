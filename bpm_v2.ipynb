{
 "cells": [
  {
   "cell_type": "code",
   "execution_count": 1,
   "metadata": {},
   "outputs": [],
   "source": [
    "from bs4 import BeautifulSoup as bs\n",
    "import requests\n",
    "import pandas as pd\n",
    "import numpy as np\n",
    "import re\n",
    "import urllib.request\n",
    "import matplotlib.pyplot as plt"
   ]
  },
  {
   "cell_type": "code",
   "execution_count": 2,
   "metadata": {},
   "outputs": [],
   "source": [
    "url_list = ['https://www.1001tracklists.com/tracklist/yj03rk/joy-orbison-resident-advisor-podcast-331-2012-10-01.html', 'https://www.1001tracklists.com/tracklist/50khrzt/joy-orbison-greenmoney-radio-2009-08-16.html', 'https://www.1001tracklists.com/tracklist/7mzt0y9/boddika-joy-orbison-rinse-fm-hessle-audio-cover-show-2014-01-16.html', 'https://www.1001tracklists.com/tracklist/6l8q8l9/joy-orbison-bbc-radio-1-essential-mix-2014-07-26.html', 'https://www.1001tracklists.com/tracklist/5y6fl1k/kerri-chandler-joy-orbison-ben-ufo-bbc-radio-1-essential-mix-07-18-live-from-lovebox-festival-2015-07-24.html', 'https://www.1001tracklists.com/tracklist/1p6g9u49/joy-orbison-andrew-lyster-nts-radio-2016-07-23.html', 'https://www.1001tracklists.com/tracklist/qgz18zk/joy-orbison-dekmantel-podcast-081-2016-08-01.html', 'https://www.1001tracklists.com/tracklist/26wlts2k/george-fitzgerald-joy-orbison-bbc-radio-1-residency-2016-11-03.html', 'https://www.1001tracklists.com/tracklist/t9gkru9/james-blake-joy-orbison-bbc-radio-1-residency-2018-02-22.html', 'https://www.1001tracklists.com/tracklist/2gfzrxw1/joy-orbison-felix-hall-nts-radio-2019-08-23.html']\n",
    "djnames = []\n",
    "tracknumbers = []\n",
    "tracknames = []\n",
    "artistnames = []\n",
    "mixnames = []\n",
    "dates = []\n",
    "url_scrape = []"
   ]
  },
  {
   "cell_type": "code",
   "execution_count": 5,
   "metadata": {},
   "outputs": [],
   "source": [
    "for url in url_list:\n",
    "    count = 0\n",
    "    headers = {'User-Agent': 'Chrome/51.0.2704.103'}\n",
    "    page_link  = url\n",
    "    page_response = requests.get(page_link, headers=headers)\n",
    "    soup = bs(page_response.content, \"html.parser\")\n",
    "    title = (page_link[48:-15])\n",
    "    title = title.replace('-', ' ')\n",
    "    title = (title[:-1])\n",
    "    title = title.title()\n",
    "    date = (page_link[-15:-5])\n",
    "    tracknames_scrape = soup.find_all(\"div\", class_=\"tlToogleData\")\n",
    "    artistnames_scrape = soup.find_all(\"meta\", itemprop=\"byArtist\")\n",
    "    for (i, track) in enumerate(tracknames_scrape):\n",
    "        if track.meta:\n",
    "            trackname = track.meta['content']\n",
    "            tracknames.append(trackname)\n",
    "            mixnames.append(title)\n",
    "            dates.append(date)\n",
    "            djnames.append('Joy Orbison')\n",
    "            url_scrape.append(url2)\n",
    "            count +=1\n",
    "            tracknumbers.append(count)\n",
    "        else:\n",
    "            continue\n",
    "    for artist in artistnames_scrape:\n",
    "        artistname = artist[\"content\"]\n",
    "        artistnames.append(artistname)\n"
   ]
  },
  {
   "cell_type": "code",
   "execution_count": 6,
   "metadata": {},
   "outputs": [
    {
     "data": {
      "text/plain": [
       "[]"
      ]
     },
     "execution_count": 6,
     "metadata": {},
     "output_type": "execute_result"
    }
   ],
   "source": [
    "artistnames"
   ]
  },
  {
   "cell_type": "code",
   "execution_count": null,
   "metadata": {},
   "outputs": [],
   "source": [
    "df2 = pd.DataFrame({'DJ Name': djnames, 'Date': dates, 'Mix Name': mixnames, 'Track Number': tracknumbers,'Track Names': tracknames, 'Artist Names': artistnames, 'URL':url_scrape})"
   ]
  }
 ],
 "metadata": {
  "kernelspec": {
   "display_name": "Python 3",
   "language": "python",
   "name": "python3"
  },
  "language_info": {
   "codemirror_mode": {
    "name": "ipython",
    "version": 3
   },
   "file_extension": ".py",
   "mimetype": "text/x-python",
   "name": "python",
   "nbconvert_exporter": "python",
   "pygments_lexer": "ipython3",
   "version": "3.7.4"
  }
 },
 "nbformat": 4,
 "nbformat_minor": 2
}
